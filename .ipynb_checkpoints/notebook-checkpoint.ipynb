{
 "cells": [
  {
   "cell_type": "markdown",
   "metadata": {},
   "source": [
    "### Priprava podatkov za obdelavo"
   ]
  },
  {
   "cell_type": "code",
   "execution_count": 1,
   "metadata": {
    "ExecuteTime": {
     "end_time": "2024-05-14T20:37:01.926591Z",
     "start_time": "2024-05-14T20:37:00.264346Z"
    }
   },
   "source": [
    "from Classes import Data\n",
    "\n",
    "data = Data()"
   ],
   "outputs": []
  },
  {
   "cell_type": "markdown",
   "metadata": {},
   "source": [
    "### Računanje št. nesreč letal skozi leta"
   ]
  },
  {
   "cell_type": "code",
   "execution_count": 2,
   "metadata": {
    "ExecuteTime": {
     "end_time": "2024-05-14T20:37:02.180892Z",
     "start_time": "2024-05-14T20:37:01.930470Z"
    }
   },
   "source": [
    "data.crashes_over_time() #mau niha pa to"
   ],
   "outputs": []
  },
  {
   "cell_type": "code",
   "execution_count": 3,
   "metadata": {
    "ExecuteTime": {
     "end_time": "2024-05-14T20:37:02.447857Z",
     "start_time": "2024-05-14T20:37:02.182858Z"
    }
   },
   "source": [
    "data.crashes_over_time_regression()"
   ],
   "outputs": []
  },
  {
   "cell_type": "code",
   "execution_count": 4,
   "metadata": {
    "ExecuteTime": {
     "end_time": "2024-05-14T20:37:02.712053Z",
     "start_time": "2024-05-14T20:37:02.448888Z"
    }
   },
   "source": [
    "data.ratio_over_time()"
   ],
   "outputs": []
  },
  {
   "cell_type": "code",
   "execution_count": 5,
   "metadata": {
    "ExecuteTime": {
     "end_time": "2024-05-14T20:37:02.981091Z",
     "start_time": "2024-05-14T20:37:02.715024Z"
    }
   },
   "source": [
    "data.ratio_over_time_regression()"
   ],
   "outputs": []
  },
  {
   "cell_type": "code",
   "execution_count": 6,
   "metadata": {
    "ExecuteTime": {
     "end_time": "2024-05-14T20:37:03.360091Z",
     "start_time": "2024-05-14T20:37:02.983062Z"
    }
   },
   "source": [
    "data.fatilities_vs_ratio()"
   ],
   "outputs": []
  },
  {
   "cell_type": "code",
   "execution_count": 7,
   "metadata": {
    "ExecuteTime": {
     "end_time": "2024-05-14T20:37:03.846367Z",
     "start_time": "2024-05-14T20:37:03.362062Z"
    }
   },
   "source": [
    "data.fatilities_vs_ratio_regression()"
   ],
   "outputs": []
  },
  {
   "cell_type": "code",
   "execution_count": 8,
   "metadata": {
    "ExecuteTime": {
     "end_time": "2024-05-14T20:37:04.312401Z",
     "start_time": "2024-05-14T20:37:03.848366Z"
    }
   },
   "source": [
    "data.passanger_and_fatalities_over_time()"
   ],
   "outputs": []
  },
  {
   "cell_type": "code",
   "execution_count": 9,
   "metadata": {
    "ExecuteTime": {
     "end_time": "2024-05-14T20:37:04.564395Z",
     "start_time": "2024-05-14T20:37:04.314397Z"
    }
   },
   "source": [
    "data.highest_crash_counts() #En čas edino prevozniško letalo. "
   ],
   "outputs": []
  },
  {
   "cell_type": "code",
   "execution_count": 10,
   "metadata": {
    "ExecuteTime": {
     "end_time": "2024-05-14T20:37:04.831396Z",
     "start_time": "2024-05-14T20:37:04.566366Z"
    }
   },
   "source": [
    "import matplotlib.pyplot as plt\n",
    "import numpy as np\n",
    "\n",
    "\n",
    "def unicena_letala():\n",
    "    unicena = data.extract_data_from_summary([\"shoot\", \"shot\", \"attack\"], [\"overshoot\", \"undershoot\"], \"Summary\")\n",
    "    print(len(unicena))\n",
    "    years, counts = np.unique([entry['Date'][-4:] for entry in unicena], return_counts=True)\n",
    "\n",
    "    years_filtered = years[counts > 3]\n",
    "    counts_filtered = counts[counts > 3]\n",
    "\n",
    "    \"\"\"for year,count in zip(years,counts):\n",
    "        if(count>3):\n",
    "            print(year,count)\"\"\"\n",
    "\n",
    "    plt.figure(figsize=(10, 6))\n",
    "    plt.bar(years_filtered.astype(int), counts_filtered, color='blue')\n",
    "    plt.xlabel('Year')\n",
    "    plt.ylabel('Number of Aircraft Destroyed')\n",
    "    plt.title('Number of Aircraft Destroyed due to Attacks over the Years (Count > 3)')\n",
    "    plt.grid(True)\n",
    "    plt.xticks(rotation=45)\n",
    "    plt.tight_layout()\n",
    "    plt.show()\n",
    "\n",
    "\n",
    "unicena_letala() \n",
    "#Lahko izpišemo še kraj\n",
    "#1940 - 2 svetovna vojna\n",
    "#1960 - Vietnamska vojna\n",
    "#1980 - Falklandska vojna\n",
    "#1990 - Sovjetska zveza, Jugoslavija..."
   ],
   "outputs": []
  },
  {
   "cell_type": "markdown",
   "metadata": {},
   "source": [
    "**Faulty design**"
   ]
  },
  {
   "cell_type": "code",
   "execution_count": 11,
   "metadata": {
    "ExecuteTime": {
     "end_time": "2024-05-14T20:37:04.894395Z",
     "start_time": "2024-05-14T20:37:04.833367Z"
    }
   },
   "source": [
    "extracted = data.extract_data_from_summary([\"faulty design\", \"design flaw\", \"design deficiencies\"], [], \"Summary\")\n",
    "print(len(extracted))\n"
   ],
   "outputs": []
  },
  {
   "cell_type": "markdown",
   "metadata": {},
   "source": [
    "**Water**"
   ]
  },
  {
   "cell_type": "code",
   "execution_count": 12,
   "metadata": {
    "ExecuteTime": {
     "end_time": "2024-05-14T20:37:04.970402Z",
     "start_time": "2024-05-14T20:37:04.895398Z"
    }
   },
   "source": [
    "extracted = data.extract_data_from_summary([\"ocean\", \"water\", \"swamp\", \"sea\", \"river\"], [], \"Summary\")\n",
    "print(len(extracted))\n"
   ],
   "outputs": []
  },
  {
   "cell_type": "markdown",
   "metadata": {},
   "source": [
    "**Low fuel**"
   ]
  },
  {
   "cell_type": "code",
   "execution_count": 13,
   "metadata": {
    "ExecuteTime": {
     "end_time": "2024-05-14T20:37:05.033364Z",
     "start_time": "2024-05-14T20:37:04.971367Z"
    }
   },
   "source": [
    "extracted = data.extract_data_from_summary([\"low fuel\", \"fuel exhaustion\", \"ran out of fuel\", \"running out of fuel\"], [], \"Summary\")\n",
    "print(len(extracted))\n"
   ],
   "outputs": []
  },
  {
   "cell_type": "markdown",
   "metadata": {},
   "source": [
    "**Birds**"
   ]
  },
  {
   "cell_type": "code",
   "execution_count": 14,
   "metadata": {
    "ExecuteTime": {
     "end_time": "2024-05-14T20:37:05.097397Z",
     "start_time": "2024-05-14T20:37:05.036365Z"
    }
   },
   "source": [
    "extracted = data.extract_data_from_summary([\"bird\", \"geese\", \"flock\"], [], \"Summary\")\n",
    "print(len(extracted))"
   ],
   "outputs": []
  },
  {
   "cell_type": "markdown",
   "metadata": {},
   "source": [
    "### Uspešnost letalskih podjetij glede na število mrtvih, število potnikov in število letov"
   ]
  },
  {
   "cell_type": "code",
   "execution_count": 15,
   "metadata": {
    "ExecuteTime": {
     "end_time": "2024-05-14T20:37:31.818090Z",
     "start_time": "2024-05-14T20:37:05.099365Z"
    }
   },
   "source": [
    "data.operator_performance() # Še enkrat v ChatGPT ali pa razmislimo"
   ],
   "outputs": []
  },
  {
   "cell_type": "code",
   "execution_count": 16,
   "metadata": {
    "ExecuteTime": {
     "end_time": "2024-05-14T20:37:32.037569Z",
     "start_time": "2024-05-14T20:37:31.819060Z"
    }
   },
   "source": [
    "data.deaths_over_time()"
   ],
   "outputs": []
  },
  {
   "cell_type": "code",
   "execution_count": 17,
   "metadata": {
    "ExecuteTime": {
     "end_time": "2024-05-14T20:37:32.164592Z",
     "start_time": "2024-05-14T20:37:32.039570Z"
    }
   },
   "source": [
    "data.ratio_between_aboard_fatal()"
   ],
   "outputs": []
  },
  {
   "cell_type": "code",
   "execution_count": 18,
   "metadata": {
    "ExecuteTime": {
     "end_time": "2024-05-14T20:37:32.624592Z",
     "start_time": "2024-05-14T20:37:32.166593Z"
    }
   },
   "source": [
    "data.crash_locations_on_map()"
   ],
   "outputs": []
  },
  {
   "cell_type": "code",
   "execution_count": 19,
   "metadata": {
    "ExecuteTime": {
     "end_time": "2024-05-14T20:37:34.040105Z",
     "start_time": "2024-05-14T20:37:32.626592Z"
    }
   },
   "source": [
    "data.wordcloud('Summary')"
   ],
   "outputs": []
  },
  {
   "cell_type": "code",
   "execution_count": 20,
   "metadata": {},
   "source": [
    "data.countrycloud('Location')"
   ],
   "outputs": []
  },
  {
   "cell_type": "code",
   "execution_count": 21,
   "metadata": {},
   "source": [
    "top_operators = data.top_operators('Operator', 3)\n",
    "print(\"Operatorji z največ nesrečami:\")\n",
    "for operator, count in top_operators:\n",
    "    print(f\"{operator}: {count} nesreč\")"
   ],
   "outputs": []
  },
  {
   "cell_type": "markdown",
   "metadata": {},
   "source": [
    "Zanimivo je da je največ nesreč bilo pri Ruskemu operatorju in sicer Aeroflot. Pa raziscimo malo..."
   ]
  },
  {
   "cell_type": "markdown",
   "metadata": {},
   "source": [
    "Narisimo graf, ki bo prikazoval st. nesrec operatorja Aeroflot vsako leto."
   ]
  },
  {
   "cell_type": "code",
   "execution_count": 22,
   "metadata": {},
   "source": [
    "data.count_of_accidents_by_year_operator()"
   ],
   "outputs": []
  },
  {
   "cell_type": "markdown",
   "metadata": {},
   "source": [
    "Opazimo da je prišlo do veliko nesreč med letom 1970 in 1990. Po krajšem brskanju na internetu imamo celo wikipedia članek na to temo.\n",
    "https://en.wikipedia.org/wiki/Aeroflot_accidents_and_incidents_in_the_1970s\n"
   ]
  },
  {
   "cell_type": "code",
   "execution_count": 23,
   "metadata": {},
   "source": [
    "data.cluster_crashes_by_reason()"
   ],
   "outputs": []
  }
 ],
 "metadata": {
  "kernelspec": {
   "display_name": "Python 3 (ipykernel)",
   "language": "python",
   "name": "python3"
  },
  "language_info": {
   "codemirror_mode": {
    "name": "ipython",
    "version": 3
   },
   "file_extension": ".py",
   "mimetype": "text/x-python",
   "name": "python",
   "nbconvert_exporter": "python",
   "pygments_lexer": "ipython3",
   "version": "3.12.3"
  }
 },
 "nbformat": 4,
 "nbformat_minor": 4
}
