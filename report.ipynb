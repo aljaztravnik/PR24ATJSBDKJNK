{
 "cells": [
  {
   "cell_type": "markdown",
   "metadata": {},
   "source": [
    "# Analiza letalskih nesreč od leta 1908 do 2009"
   ]
  },
  {
   "cell_type": "markdown",
   "metadata": {},
   "source": [
    "## Uvod\n",
    "\n",
    "Letalski promet se je pojavil v začetku 20. stoletja. Od takrat se se je število letov drastično povečevalo, prav tako so se dogajale tudi letalske nesreče. V naši analizi smo želeli analizirati, koliko letalskih nesreč se je zgodilo skozi čas ter njihove razloge. V naši analizi smo obravnavali podatke letalskih nesreč od leta 1908 do 2009."
   ]
  },
  {
   "cell_type": "markdown",
   "metadata": {},
   "source": [
    "## Problem\n",
    "\n",
    "Našo analizo letalskih nesreč smo poskušali razdeliti na dva dela. V 1. delu smo se ukvarjali predvsem s splošnimi statistikami:\n",
    "\n",
    "- št. nesreč skozi leta\n",
    "- št. mrtvih\n",
    "- št. potnikov\n",
    "- najbolj uspešna ter najmanj uspešna letalska podjetja\n",
    "- ...\n",
    "\n",
    "\n",
    "V drugem delu analize pa smo poskušali odkriti, kje so se najpogosteje dogajale nesreče ter razlog zakaj je prišlo do same nesreče."
   ]
  },
  {
   "cell_type": "markdown",
   "metadata": {},
   "source": [
    "## Podatki"
   ]
  },
  {
   "cell_type": "markdown",
   "metadata": {},
   "source": [
    "Podatki so pridobljeni na strani [https://www.kaggle.com/datasets/saurograndi/airplane-crashes-since-1908](https://www.kaggle.com/datasets/saurograndi/airplane-crashes-since-1908).\n",
    "\n",
    "Nahajajo se v [podatki/Airplane_Crashes_and_Fatalities_Since_1908.csv](podatki/aeroflot_accidents_1970s.csv). Za podane podatke smo se odločili, ker so že urejeni ter normalizirani. Na večino ostalih spletnih straneh podatki niso bili urejeni ter so bili predvsem pomankljivi. Podatki so v obliki .csv datoteke. Podatki vsebujejo  13 atributov.\n",
    "\n",
    "- Date (datum nesreče)\n",
    "- Time (točen čas nesreče)\n",
    "- Location (lokacija nesreče)\n",
    "- Operator (podjetje, ki si lasti to letalo)\n",
    "- Flight (številka leta)\n",
    "- Route (pot iz kje do kam)\n",
    "- Type (model letala)\n",
    "- Registration (registerska številka letala)\n",
    "- cn_ln (številka konstrukcije ali serijska številka / številka linije ali trupa)\n",
    "- Aboard (število posadke)\n",
    "- Fatalities (število mrtvih)\n",
    "- Ground (št. umrlih ob trčenju v tla)\n",
    "- Summary (Opis vzroka nesreče)"
   ]
  },
  {
   "cell_type": "markdown",
   "metadata": {},
   "source": [
    "Izmed podanih atributov smo se osredotočali predvsem na slednje atribute: Date, Location, Operator, Type, Aboard, Fatalities ter Summary. Določenim atributom včasih manjka vrednost. V našem primeru smo se fokusirali na vse vrstice podatkov, saj določene mankajoče vrednosti niso konkretno vplivale na analizo podatkov (imamo dovolj velik vzorec podatkov)."
   ]
  },
  {
   "cell_type": "code",
   "execution_count": 7,
   "metadata": {},
   "outputs": [
    {
     "data": {
      "text/html": [
       "<div>\n",
       "<style scoped>\n",
       "    .dataframe tbody tr th:only-of-type {\n",
       "        vertical-align: middle;\n",
       "    }\n",
       "\n",
       "    .dataframe tbody tr th {\n",
       "        vertical-align: top;\n",
       "    }\n",
       "\n",
       "    .dataframe thead th {\n",
       "        text-align: right;\n",
       "    }\n",
       "</style>\n",
       "<table border=\"1\" class=\"dataframe\">\n",
       "  <thead>\n",
       "    <tr style=\"text-align: right;\">\n",
       "      <th></th>\n",
       "      <th>Date</th>\n",
       "      <th>Time</th>\n",
       "      <th>Location</th>\n",
       "      <th>Operator</th>\n",
       "      <th>Flight</th>\n",
       "      <th>Route</th>\n",
       "      <th>Type</th>\n",
       "      <th>Registration</th>\n",
       "      <th>cn_In</th>\n",
       "      <th>Aboard</th>\n",
       "      <th>Fatalities</th>\n",
       "      <th>Ground</th>\n",
       "      <th>Summary</th>\n",
       "    </tr>\n",
       "  </thead>\n",
       "  <tbody>\n",
       "    <tr>\n",
       "      <th>0</th>\n",
       "      <td>01/01/1966</td>\n",
       "      <td></td>\n",
       "      <td>Near Palembang, Sumarta, Indonesia</td>\n",
       "      <td>Garuda  Indonesia Airlines / Garuda Indonesia ...</td>\n",
       "      <td></td>\n",
       "      <td></td>\n",
       "      <td>Douglas DC-3 / Douglas DC-3</td>\n",
       "      <td>PK-GDU/PK-GDE</td>\n",
       "      <td>13463 / 19719</td>\n",
       "      <td>34</td>\n",
       "      <td>34</td>\n",
       "      <td>0</td>\n",
       "      <td>Midair collision between two Garuda aircraft. ...</td>\n",
       "    </tr>\n",
       "    <tr>\n",
       "      <th>1</th>\n",
       "      <td>01/01/1970</td>\n",
       "      <td>00:30</td>\n",
       "      <td>Nulato, Alaska</td>\n",
       "      <td>Galena Air Service - Air Taxi</td>\n",
       "      <td></td>\n",
       "      <td>Nulato, AK - Tanana, AK</td>\n",
       "      <td>Cessna 180</td>\n",
       "      <td>N3472Y</td>\n",
       "      <td></td>\n",
       "      <td>4</td>\n",
       "      <td>2</td>\n",
       "      <td>0</td>\n",
       "      <td>Emergency flight to airlift sick patient. Coll...</td>\n",
       "    </tr>\n",
       "    <tr>\n",
       "      <th>2</th>\n",
       "      <td>01/01/1974</td>\n",
       "      <td>12:38</td>\n",
       "      <td>Near Turin, Italy</td>\n",
       "      <td>Itavia</td>\n",
       "      <td></td>\n",
       "      <td>Bologna - Torino</td>\n",
       "      <td>Fokker F-28 Fellowship 1000</td>\n",
       "      <td>I-TIDE</td>\n",
       "      <td>11015</td>\n",
       "      <td>42</td>\n",
       "      <td>38</td>\n",
       "      <td>0</td>\n",
       "      <td>Crashed 2 miles short of the runway during an ...</td>\n",
       "    </tr>\n",
       "    <tr>\n",
       "      <th>3</th>\n",
       "      <td>01/01/1976</td>\n",
       "      <td>05:30</td>\n",
       "      <td>Near Al Qaysumah, Saudi Arabia</td>\n",
       "      <td>Middle East Airlines</td>\n",
       "      <td>438</td>\n",
       "      <td>Beirut - Dubai</td>\n",
       "      <td>Boeing B-720B-023B</td>\n",
       "      <td>OD-AFT</td>\n",
       "      <td>18020/165</td>\n",
       "      <td>82</td>\n",
       "      <td>82</td>\n",
       "      <td>0</td>\n",
       "      <td>The aircraft broke-up at FL 370 and crashed in...</td>\n",
       "    </tr>\n",
       "    <tr>\n",
       "      <th>4</th>\n",
       "      <td>01/01/1978</td>\n",
       "      <td>20:15</td>\n",
       "      <td>Off Bandra, Maharashtra, India</td>\n",
       "      <td>Air India</td>\n",
       "      <td>855</td>\n",
       "      <td>Bombay - Dubai</td>\n",
       "      <td>Boeing B-747-237B</td>\n",
       "      <td>VT-EBD</td>\n",
       "      <td>19959/124</td>\n",
       "      <td>213</td>\n",
       "      <td>213</td>\n",
       "      <td>0</td>\n",
       "      <td>Following a right turn, after taking off, the ...</td>\n",
       "    </tr>\n",
       "  </tbody>\n",
       "</table>\n",
       "</div>"
      ],
      "text/plain": [
       "         Date   Time                            Location  \\\n",
       "0  01/01/1966         Near Palembang, Sumarta, Indonesia   \n",
       "1  01/01/1970  00:30                      Nulato, Alaska   \n",
       "2  01/01/1974  12:38                   Near Turin, Italy   \n",
       "3  01/01/1976  05:30      Near Al Qaysumah, Saudi Arabia   \n",
       "4  01/01/1978  20:15      Off Bandra, Maharashtra, India   \n",
       "\n",
       "                                            Operator Flight  \\\n",
       "0  Garuda  Indonesia Airlines / Garuda Indonesia ...          \n",
       "1                      Galena Air Service - Air Taxi          \n",
       "2                                             Itavia          \n",
       "3                               Middle East Airlines    438   \n",
       "4                                          Air India    855   \n",
       "\n",
       "                     Route                         Type   Registration  \\\n",
       "0                           Douglas DC-3 / Douglas DC-3  PK-GDU/PK-GDE   \n",
       "1  Nulato, AK - Tanana, AK                   Cessna 180         N3472Y   \n",
       "2         Bologna - Torino  Fokker F-28 Fellowship 1000         I-TIDE   \n",
       "3           Beirut - Dubai           Boeing B-720B-023B         OD-AFT   \n",
       "4           Bombay - Dubai            Boeing B-747-237B         VT-EBD   \n",
       "\n",
       "           cn_In  Aboard  Fatalities  Ground  \\\n",
       "0  13463 / 19719      34          34       0   \n",
       "1                      4           2       0   \n",
       "2          11015      42          38       0   \n",
       "3      18020/165      82          82       0   \n",
       "4      19959/124     213         213       0   \n",
       "\n",
       "                                             Summary  \n",
       "0  Midair collision between two Garuda aircraft. ...  \n",
       "1  Emergency flight to airlift sick patient. Coll...  \n",
       "2  Crashed 2 miles short of the runway during an ...  \n",
       "3  The aircraft broke-up at FL 370 and crashed in...  \n",
       "4  Following a right turn, after taking off, the ...  "
      ]
     },
     "metadata": {},
     "output_type": "display_data"
    }
   ],
   "source": [
    "from Classes import Data\n",
    "import pandas as pd\n",
    "data = Data()\n",
    "from IPython.display import display\n",
    "display(pd.DataFrame(data.podatki).head(5))"
   ]
  },
  {
   "cell_type": "markdown",
   "metadata": {},
   "source": [
    "Uporabili smo tudi podatke iz [aeroflot_accidents.csv](podatki/aeroflot_accidents_1970s.csv).\n",
    "Podatke smo pridobli z ekstrakcijo podatkov iz spletne strani iz [https://en.wikipedia.org/wiki/Aeroflot_accidents_and_incidents_in_the_1970s](https://en.wikipedia.org/wiki/Aeroflot_accidents_and_incidents_in_the_1970s). Z ekstrakcijo podatkov ni bilo veliko težav. Pridobljeni podatki so bili že v prvotni obliki zapisani v obliki HTML tabele. Posledično ni bilo velike potrebe po filtraciji podatkov, saj so že bili v normalizirani obliki. Atributi so si precej podobni z prvotno podatkovno zbirko. Tudi tukaj smo se fokusirali predvsem na atributa Fatalities  (smrtnih žrtev) ter Description (opis vzroka nesreče). Za ekstrakcijo podatkov smo uporabili Python ter ogrodje Selenium, ki omogoča ekstrahiranje podatkov po HTML atributih, razredih, id-jih..."
   ]
  },
  {
   "cell_type": "code",
   "execution_count": 8,
   "metadata": {},
   "outputs": [
    {
     "data": {
      "text/html": [
       "<div>\n",
       "<style scoped>\n",
       "    .dataframe tbody tr th:only-of-type {\n",
       "        vertical-align: middle;\n",
       "    }\n",
       "\n",
       "    .dataframe tbody tr th {\n",
       "        vertical-align: top;\n",
       "    }\n",
       "\n",
       "    .dataframe thead th {\n",
       "        text-align: right;\n",
       "    }\n",
       "</style>\n",
       "<table border=\"1\" class=\"dataframe\">\n",
       "  <thead>\n",
       "    <tr style=\"text-align: right;\">\n",
       "      <th></th>\n",
       "      <th>Date</th>\n",
       "      <th>Location</th>\n",
       "      <th>Aircraft</th>\n",
       "      <th>Tail number</th>\n",
       "      <th>Airline division</th>\n",
       "      <th>Aircraft damage</th>\n",
       "      <th>Fatalities</th>\n",
       "      <th>Description</th>\n",
       "      <th>Refs</th>\n",
       "    </tr>\n",
       "  </thead>\n",
       "  <tbody>\n",
       "    <tr>\n",
       "      <th>0</th>\n",
       "      <td>1 April 19</td>\n",
       "      <td>Toguchina</td>\n",
       "      <td>An-24B</td>\n",
       "      <td>CCCP-47751</td>\n",
       "      <td>West Siberia</td>\n",
       "      <td>W/O</td>\n",
       "      <td>45/45</td>\n",
       "      <td>The aircraft crashed 20 kilometres (12 mi) sou...</td>\n",
       "      <td>[14]</td>\n",
       "    </tr>\n",
       "    <tr>\n",
       "      <th>1</th>\n",
       "      <td>1 December</td>\n",
       "      <td>Saratov</td>\n",
       "      <td>An-24B</td>\n",
       "      <td>CCCP-46788</td>\n",
       "      <td>Privolzhsk</td>\n",
       "      <td>W/O</td>\n",
       "      <td>57/57</td>\n",
       "      <td>During the descent to Saratov the aircraft fle...</td>\n",
       "      <td>[80]</td>\n",
       "    </tr>\n",
       "    <tr>\n",
       "      <th>2</th>\n",
       "      <td>1 February</td>\n",
       "      <td>Krasny</td>\n",
       "      <td>An-2TP</td>\n",
       "      <td>CCCP-40570</td>\n",
       "      <td>Central</td>\n",
       "      <td>W/O</td>\n",
       "      <td>Unknown</td>\n",
       "      <td>Collided with another An-2TP, tail number CCCP...</td>\n",
       "      <td>[362]</td>\n",
       "    </tr>\n",
       "    <tr>\n",
       "      <th>3</th>\n",
       "      <td>1 June 197</td>\n",
       "      <td>Bioko Island</td>\n",
       "      <td>Tu-154A</td>\n",
       "      <td>CCCP-85102</td>\n",
       "      <td>International</td>\n",
       "      <td>W/O</td>\n",
       "      <td>45/45</td>\n",
       "      <td>Crashed while en route its first leg into a 75...</td>\n",
       "      <td>[40][289]</td>\n",
       "    </tr>\n",
       "    <tr>\n",
       "      <th>4</th>\n",
       "      <td>1 June 197</td>\n",
       "      <td>Bogodorsk Island</td>\n",
       "      <td>An-24B</td>\n",
       "      <td>CCCP-47729</td>\n",
       "      <td>East Siberia</td>\n",
       "      <td>W/O</td>\n",
       "      <td>0</td>\n",
       "      <td>Crashed near Ulan-Ude while on a training flig...</td>\n",
       "      <td>[58]</td>\n",
       "    </tr>\n",
       "  </tbody>\n",
       "</table>\n",
       "</div>"
      ],
      "text/plain": [
       "         Date          Location Aircraft Tail number Airline division  \\\n",
       "0  1 April 19         Toguchina   An-24B  CCCP-47751     West Siberia   \n",
       "1  1 December           Saratov   An-24B  CCCP-46788       Privolzhsk   \n",
       "2  1 February            Krasny   An-2TP  CCCP-40570          Central   \n",
       "3  1 June 197      Bioko Island  Tu-154A  CCCP-85102    International   \n",
       "4  1 June 197  Bogodorsk Island   An-24B  CCCP-47729     East Siberia   \n",
       "\n",
       "  Aircraft damage Fatalities  \\\n",
       "0             W/O      45/45   \n",
       "1             W/O      57/57   \n",
       "2             W/O    Unknown   \n",
       "3             W/O      45/45   \n",
       "4             W/O          0   \n",
       "\n",
       "                                         Description       Refs  \n",
       "0  The aircraft crashed 20 kilometres (12 mi) sou...       [14]  \n",
       "1  During the descent to Saratov the aircraft fle...       [80]  \n",
       "2  Collided with another An-2TP, tail number CCCP...      [362]  \n",
       "3  Crashed while en route its first leg into a 75...  [40][289]  \n",
       "4  Crashed near Ulan-Ude while on a training flig...       [58]  "
      ]
     },
     "metadata": {},
     "output_type": "display_data"
    }
   ],
   "source": [
    "display(pd.DataFrame(data.aeroflot_podatki).head(5))"
   ]
  },
  {
   "cell_type": "markdown",
   "metadata": {},
   "source": [
    "## Analiza"
   ]
  },
  {
   "cell_type": "markdown",
   "metadata": {},
   "source": [
    "### št. nesreč letal skozi leta\n",
    "\n",
    "Začeli smo s preprosto statistično analizo - Računanje št. nesreč letal skozi leta. Narisali smo 2 grafa. Iz grafov smo opazili dokaj stabilno rast nesreč od leta 1908 do 2009. Zasledili smo naslednja prelomna leta z velikim porastom nesreč:\n",
    "\n",
    "- 1917/1918 (1. svetovna vojna, porast tehnoloških napredkov ter letalske industrije)\n",
    "- 1942-1947 (2. svetovna vojna, ponovni porast tehnoloških napredkov, sestreljevanje vojaških ter potniških letal).\n",
    "- 1950-1970 (povojno obdobje, št. nesreč se v povprečju zniža, razmah komercialnega letalstva)\n",
    "- 1970 - 1990 (hladna vojna, veliko letalskih nesreč na ozemlju Sovjetske zveze)\n",
    "- 1990 - 2009 (razvoj najmoderejših sistemov za krmiljenje letal, stopnja nesreč se začne zmanjševati)\n",
    "\n",
    "\n",
    "**Ugotovitve**\n",
    "\n",
    "Porast letalske industrije se je začel v času 1. svetovne vojne. Tudi v preostalih časovnih obdobjih so vojne zelo vplivale na razmah letalske industrije ter posledično tudi na število samih nesreč. Iz grafov ni razvidnih konkretnih razlogov za manjše poraste ali padce število nesreč razen zgodovinskih dogodkov ki so se zgodili v tem času ter porast število letov zaradi porast komercialnih letov\n"
   ]
  },
  {
   "cell_type": "markdown",
   "metadata": {},
   "source": [
    "### Razmerje št. nesreč/št. vseh potnikov\n",
    "\n",
    "Ugotavljali smo kako se razmerje število nesreč v razmerju z število potnikov spreminja čez leta. Iz grafov smo ugotovili da pride do zelo velikega porasta v letu 1917/1918. Sklepamo da je to anomalija v podatkovni zbirki zaradi 1. svetovne vojne. Razmerje po hitrem vzponu zelo hitro pade in se z leti normalizira na okrog 5%. Črta ki prikazuje razmerje je oranžne barve, rdeča barva pa število nesreč skozi leta. \n",
    "\n",
    "Kaj to pomeni?\n",
    "\n",
    "Pomeni da se čez leta zgodi vse več nesreč(več letov na leto -> proporcionalno več nesreč), prevoženih potnikov pa je vsako leto znatno več.\n",
    "\n",
    "![Razmerje nesreč ter število prevoženih potnikov](./assets/accidents_ratio_per_year.png)\n",
    "\n",
    "\n"
   ]
  },
  {
   "cell_type": "markdown",
   "metadata": {},
   "source": [
    "### Potniki in smrtne žrtve\n",
    "\n",
    "V analizi smo ugotavljali tudi razmerje mrtvih/preživelih skozi čas. Pokušali smo narisati graf, ki je najbolj nazorno prikazoval razmerje. Iz grafa se lepo vidi da se v obdobju 1908-1945 skora vse nesreče skoraj 100% fatalne. Procent umrlih/potnikov se drastično zmanjša po drugi svetovni vojni. Dejstvo je da so po 2. svetovni vojni v podatkovni zbirki navedeni podatki tudi o komercialnih letih. Imajo boljše varnostne sisteme, posledično sklepamo da ni njihov vzrok nesreče vojaška sestrelitev ampak okvara motorja, ptice, problem ob vzletu...nekaj več o tem v nadaljevanju.\n",
    "\n",
    "Iz celotne podatkovne zbirke smo ekstrahirali podatek o tem, da je od vseh \n",
    "\n",
    "\n",
    "![Razmerje smrtnih izidov glede na vse potnike](./assets/zrtve_vsipotniki.png)"
   ]
  },
  {
   "cell_type": "markdown",
   "metadata": {},
   "source": [
    "### Letala z največ nesrečami\n",
    "\n",
    "Letalo z največ nesrečami je Douglas DC-3 z preko 300 nesrečami. Ta podatek nam ne pove veliko o tem ali je to veliko, malo ter v kakšnem razmerju je z preostalimi modeli letal. V analizi smo si narisali stolpični diagram 10-ih letal z največ nesrečami. Douglas je konkretno izstopal. Večina preostalih letal je imelo bistveno manj nesreč, številka se giblje pod 100 nesreč. Zakaj je temu tako? Po izčrpnem preiskovanju smo ugotovili, da je Douglas DC-3 vojaško letalo, ki se ga je v določenem časovnem obdobju uporabljalo tudi kot potniško letalo. Poleg tega model DC-3 zajema svoje pod različice ali verzije. Npr. model letala Douglas C-47 Skytrain spada pod označbo DC-3. Pod ta model spadajo različice tudi z imeni  C-48, C-49, C-50, C-51, C-52, C-53 Skytrooper, C-68, C-84, C-117 Super Dakota. To je tudi eden od razlogov za visoko število letalskih nesreč."
   ]
  },
  {
   "cell_type": "markdown",
   "metadata": {},
   "source": [
    "### Napadi na letala"
   ]
  },
  {
   "cell_type": "markdown",
   "metadata": {},
   "source": [
    "Bolj kot se spuščamo v podrobno obravnavo podatkovne zbirke, bolj opažamo da so imele vojne velik vpliv na letalsko industrijo, posledično tudi z letalskimi nesrečami. Zbirka vsebuje atribut opis nesreče. Iz opisov smo izluščili nekatere pogoste besede, ki bi lahko klasificirale nesrečo pod \"vojaško\" oziroma \"napad\" na letalo.\n",
    "Poskusili smo s slednjimi besedami:\n",
    "**shoot**,**shot**,**attack**,**overshoot**,**undershoot**\n",
    "\n",
    "Dobili smo pričakovane rezultate. Našli smo nesreče na naslednjih prelomnicah: \n",
    "- 1940-1945: 2. svetovna vojna\n",
    "- 1965-1970 Vietnamska vojna\n",
    "- 1985-1995 vojna v jugoslaviji, ostali vojaški konflikti v srednjem vzhodu"
   ]
  },
  {
   "cell_type": "markdown",
   "metadata": {},
   "source": [
    "### Sistemske napake"
   ]
  },
  {
   "cell_type": "markdown",
   "metadata": {},
   "source": [
    "Nesreče smo želeli kvalificirati tudi po ostalih zanimivih besedah, saj verjamemo da vojne niso edini povzročitelj letalskih nesreč.\n",
    "\n",
    "Poskusili smo ugotoviti število nesreč zaradi sistemskih napak oziroma problematik v samem dizajnu letala.\n",
    "Poskusili smo s slednjimi besedami:\n",
    "**faulty design**, **design flaw**, **design deficiencies**\n",
    "\n",
    "Število najdenih nesreč: 16\n"
   ]
  },
  {
   "cell_type": "markdown",
   "metadata": {},
   "source": [
    "### Primankovanje goriva"
   ]
  },
  {
   "cell_type": "markdown",
   "metadata": {},
   "source": [
    "Klasificirali smo po slednjih besedah:\n",
    "**low fuel**, **fuel exhaustion**, **ran out of fuel**, **running out of fuel**\n",
    "\n",
    "Število najdenih nesreč: 66"
   ]
  },
  {
   "cell_type": "markdown",
   "metadata": {},
   "source": [
    "### Ptice"
   ]
  },
  {
   "cell_type": "markdown",
   "metadata": {},
   "source": [
    "Klasificirali smo po slednjih besedah: **bird**,**geese**,**flock**\n",
    "\n",
    "Število najdenih nesreč: 12"
   ]
  },
  {
   "cell_type": "markdown",
   "metadata": {},
   "source": [
    "### Terorizem\n",
    "\n",
    "Klasificirali smo po slednjih besedah: **terrorism**, **terrorist**\n",
    "\n",
    "Število najdenih nesreč: 12"
   ]
  },
  {
   "cell_type": "markdown",
   "metadata": {},
   "source": [
    "### Nesreče okrog vodnih površinah\n",
    "\n",
    "Klasificirali smo po slednjih besedah: **ocean**,**water**,**swamp**,**sea**,**river**\n",
    "\n",
    "Število najdenih nesreč: 617"
   ]
  },
  {
   "cell_type": "markdown",
   "metadata": {},
   "source": [
    "### Vrsta poletov"
   ]
  },
  {
   "cell_type": "markdown",
   "metadata": {},
   "source": [
    "Večkrat smo v analizi omenili, da se v podatkovni zbirki nahajajo poleti, ki so lahko vojaški ali komercialni. Proporcionalnost je sledeča: 14.8% je vojaških nesreč, preostalih 85.2% spada pod komercialne polete. Iz tega se vidi, da je precej več komercialnih nesreč. Graf obeh vrst poletov skozi čas smo tudi narisali. Iz grafa se je nazorno videlo da vojaške nesreče naredijo velik porast v času 1940-1945, nato pa se vzorec nesreč znatno zniža in pride do manjših nihanj, vse do leta 2008. Iz tega lahko pridemo do zaključka, da je večino vojaških nesreč prišlo v času 2. svetovne vojne. Ostale vojne(jugoslovanska, afganistanska, vietnamska) nimajo velikega vpliva. Velika verjetnost je tudi da veliko vojaški nesreč ni popisanih oziroma mankajo v obravnavani podatkovni zbirki. "
   ]
  },
  {
   "cell_type": "markdown",
   "metadata": {},
   "source": [
    "### Lokacija nesreč"
   ]
  },
  {
   "cell_type": "markdown",
   "metadata": {},
   "source": [
    "V notebook.ipynb si lahko ogledate animacijo lokacij nesreč skozi čas po celotnem svetu. Za izvedbo animacije je bila potrebna uporabe knjižnice **PillowWriter**. Za prikaz preprostega zemljevida sveta smo uporabili knjižnico **cartopy**. Sama podatkovna zbirka ne vsebuje točnih kordinat nesreč. Vsebuje pa kraj oziroma približno lokacijo nesreče. S pomočjo Geocode reverse inženiringa smo lahko preko klicev na  [Nominatim API](https://nominatim.openstreetmap.org/ui/search.html) poiskali kordinate letalskih nesreč. Največ težav se je pojavilo pri ugotavljanju kordinat nesreč, ki so se zgodile na morju. Geocoding API je večkrat imel težave pri zaznavi samega kraja. Po natančnejši obravnavi smo se odločili da iz nizov odstranimo nepotrebne besede kot so: **Near**, **Off**, **Around**, **Close to**. Po čiščenju nizov je Geocoding API našel večino obmorskih krajev.\n",
    "\n",
    "Lokacije nesreč smo narisali tudi v \"wordcloud\" oziroma besedni oblak. Bolj pogostejše države ter območja izstopajo s svojo velikostjo. Med njimi izstopajo predvsem Brazilija, Rusija, Aljaska ter Kanada. \n",
    "\n",
    "![besednih oblak držav](./assets/wordcloud_countries.png)"
   ]
  },
  {
   "cell_type": "markdown",
   "metadata": {},
   "source": [
    "### Operatorji in lokacija"
   ]
  },
  {
   "cell_type": "markdown",
   "metadata": {},
   "source": [
    "Zanimalo nas je kater operator je imel največ nesreč. Ugotovitve so slednje:\n",
    "- Aeroflot: 179\n",
    "- Military - U.S. Air Force: 176\n",
    "- Air France: 70\n",
    "\n",
    "Zanimivo je da je največ nesreč bilo pri Ruskemu operatorju in sicer Aeroflot. V analizi smo si narisali graf vseh nesreč skozi leta. Opazili smo visoko število nesreč v času 1970-1990. O teh nesrečah je več informaciji na [https://www.wikipedia.org/](https://en.wikipedia.org/wiki/Aeroflot_accidents_and_incidents).\n",
    "\n",
    "Podatke smo iz tabele o nesrečah ekstrahirali s pomočjo orodji Python ter Selenium. Ekstrakcija je bila preprosta. Podatki na spletni strani so že urejeni v obliki tabele. Podatke je bilo potrebno shraniti v Python slovar, to pa smo zapisali v .csv datoteko za trajno ohranitev podatkov ter nadalnjo obravnavo."
   ]
  }
 ],
 "metadata": {
  "kernelspec": {
   "display_name": "Python 3",
   "language": "python",
   "name": "python3"
  },
  "language_info": {
   "codemirror_mode": {
    "name": "ipython",
    "version": 3
   },
   "file_extension": ".py",
   "mimetype": "text/x-python",
   "name": "python",
   "nbconvert_exporter": "python",
   "pygments_lexer": "ipython3",
   "version": "3.12.3"
  }
 },
 "nbformat": 4,
 "nbformat_minor": 2
}
