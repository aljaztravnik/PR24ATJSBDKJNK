{
 "cells": [
  {
   "cell_type": "code",
   "execution_count": 27,
   "metadata": {},
   "outputs": [
    {
     "name": "stdout",
     "output_type": "stream",
     "text": [
      "[('01/01/1966', '', 'Near Palembang, Sumarta, Indonesia', 'Garuda  Indonesia Airlines / Garuda Indonesia Airlines', '', '', 'Douglas DC-3 / Douglas DC-3', 'PK-GDU/PK-GDE', '13463 / 19719', 34, 34, 0, 'Midair collision between two Garuda aircraft. Both crashed into a swamp while approaching Palembang. Seventeen died on each aircraft.')\n",
      " ('01/01/1970', '00:30', 'Nulato, Alaska', 'Galena Air Service - Air Taxi', '', 'Nulato, AK - Tanana, AK', 'Cessna 180', 'N3472Y', '',  4,  2, 0, 'Emergency flight to airlift sick patient. Collided with trees while en route. Pilot stayed low to maintain ground contact at night. Continued VFR flight into adverse weather conditions.')\n",
      " ('01/01/1974', '12:38', 'Near Turin, Italy', 'Itavia', '', 'Bologna - Torino', 'Fokker F-28 Fellowship 1000', 'I-TIDE', '11015', 42, 38, 0, 'Crashed 2 miles short of the runway during an approach in fog and heavy rain.')\n",
      " ...\n",
      " ('12/31/1981', '20:00', 'Durango, Colorado', 'Sun West Airline - Air Taxi', '', 'Albuquerque, NM - Durango, CO', 'Piper PA-31', 'N41070', '',  6,  4, 0, 'The pilot failed to execute a successful missed approach for unknown reasons and crashed.')\n",
      " ('12/31/1985', '17:14', 'De Kalb, Texas', 'Private', '', 'Guntersville - Dallas/Ft. Worth', 'Douglas DC-3', 'N711Y', '13658',  9,  7, 0, 'The plane crash landed into a field and struck a pole then continued into trees after dense smoke filled the plane and cockpit. The fire most likely started in a defective cabin heater but was not determined for sure. Singer Rick Nelson, 45, fiancée Helen Blair, 27, soundman Clark Russell and the members of his back-up group The Stone Canyon Band, Andy Chapin, 20, Rick Intveld, 22, Bobby Neal, 38, and Patrick Woodward, 35 were killed. Both pilots survived after climbing out the cockpit windows. Nelson had purchased the DC-3 in May 1985 from Jerry Lee Lewis and the craft had been forced to make two emergency landings in the previous six months. Nelson and his band were en route to perform at the half-time festivities at the Cotton Bowl.')\n",
      " ('12/31/1997', '07:45', 'Rio Sidra, Panama', 'Parsa', '', 'Panama City - Rio Sidra', 'Britten Norman BN-2A Trislander', 'HP-986PS', '178', 10, 10, 0, 'Crashed into dense jungle, 4 miles short of its destination in heavy fog.')]\n"
     ]
    }
   ],
   "source": [
    "from csv import DictReader\n",
    "import numpy as np\n",
    "#Date,Time,Location,Operator,Flight #,Route,Type,Registration,cn/In,Aboard,Fatalities,Ground,Summary\n",
    "\n",
    "podatki = []\n",
    "dtype = [\n",
    "    ('Date', 'U10'),           # Date as string\n",
    "    ('Time', 'U10'),            # Time as string\n",
    "    ('Location', 'U100'),       # Location as string\n",
    "    ('Operator', 'U100'),       # Operator as string\n",
    "    ('Flight', 'U100'),         # Flight number as string\n",
    "    ('Route', 'U100'),          # Route as string\n",
    "    ('Type', 'U100'),           # Aircraft type as string\n",
    "    ('Registration', 'U100'),   # Registration as string\n",
    "    ('cn_In', 'U100'),          # Construction number or other identifier as string\n",
    "    ('Aboard', np.int32),           # Number of people aboard as integer\n",
    "    ('Fatalities', np.int32),       # Number of fatalities as integer\n",
    "    ('Ground', np.int32),           # Number of ground fatalities as integer\n",
    "    ('Summary', 'U1000')        # Summary as string\n",
    "]\n",
    "\n",
    "with open(\"podatki\\Airplane_Crashes_and_Fatalities_Since_1908.csv\", 'r', encoding='utf-8') as file:\n",
    "    csv_reader = DictReader(file)\n",
    "    for row in csv_reader:\n",
    "        date = row['Date']\n",
    "        time = row['Time']\n",
    "        location = row['Location']\n",
    "        operator = row['Operator']\n",
    "        flightNr = row['Flight #']\n",
    "        route = row['Route']\n",
    "        type = row['Type']\n",
    "        registration = row['Registration']\n",
    "        CnIn = row['cn/In']\n",
    "        aboard = int(row[\"Aboard\"]) if row[\"Aboard\"] else 0\n",
    "        fatalities = int(row[\"Fatalities\"]) if row[\"Fatalities\"] else 0\n",
    "        ground = int(row['Ground']) if row[\"Ground\"] else 0\n",
    "        summary = row['Summary']\n",
    "        podatki.append((date,time,location,operator,flightNr,route,type,registration,CnIn,aboard,fatalities,ground,summary))\n",
    "podatki = np.sort(np.array(podatki,dtype=dtype), order='Date')\n",
    "print(podatki)\n",
    "\n"
   ]
  }
 ],
 "metadata": {
  "kernelspec": {
   "display_name": "Python 3",
   "language": "python",
   "name": "python3"
  },
  "language_info": {
   "codemirror_mode": {
    "name": "ipython",
    "version": 3
   },
   "file_extension": ".py",
   "mimetype": "text/x-python",
   "name": "python",
   "nbconvert_exporter": "python",
   "pygments_lexer": "ipython3",
   "version": "3.10.14"
  }
 },
 "nbformat": 4,
 "nbformat_minor": 2
}
