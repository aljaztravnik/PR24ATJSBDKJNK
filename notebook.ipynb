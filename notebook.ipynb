{
 "cells": [
  {
   "cell_type": "code",
   "execution_count": 88,
   "metadata": {},
   "outputs": [],
   "source": [
    "from csv import DictReader\n",
    "import numpy as np\n",
    "#Date,Time,Location,Operator,Flight #,Route,Type,Registration,cn/In,Aboard,Fatalities,Ground,Summary\n",
    "\n",
    "podatki = []\n",
    "dtype = [\n",
    "    ('Date', 'U10'),           # Date as string\n",
    "    ('Time', 'U10'),            # Time as string\n",
    "    ('Location', 'U100'),       # Location as string\n",
    "    ('Operator', 'U100'),       # Operator as string\n",
    "    ('Flight', 'U100'),         # Flight number as string\n",
    "    ('Route', 'U100'),          # Route as string\n",
    "    ('Type', 'U100'),           # Aircraft type as string\n",
    "    ('Registration', 'U100'),   # Registration as string\n",
    "    ('cn_In', 'U100'),          # Construction number or other identifier as string\n",
    "    ('Aboard', np.int32),           # Number of people aboard as integer\n",
    "    ('Fatalities', np.int32),       # Number of fatalities as integer\n",
    "    ('Ground', np.int32),           # Number of ground fatalities as integer\n",
    "    ('Summary', 'U1000')        # Summary as string\n",
    "]\n",
    "\n",
    "with open(\"podatki\\Airplane_Crashes_and_Fatalities_Since_1908.csv\", 'r', encoding='utf-8') as file:\n",
    "    csv_reader = DictReader(file)\n",
    "    for row in csv_reader:\n",
    "        date = row['Date']\n",
    "        time = row['Time']\n",
    "        location = row['Location']\n",
    "        operator = row['Operator']\n",
    "        flightNr = row['Flight #']\n",
    "        route = row['Route']\n",
    "        type = row['Type']\n",
    "        registration = row['Registration']\n",
    "        CnIn = row['cn/In']\n",
    "        aboard = int(row[\"Aboard\"]) if row[\"Aboard\"] else 0\n",
    "        fatalities = int(row[\"Fatalities\"]) if row[\"Fatalities\"] else 0\n",
    "        ground = int(row['Ground']) if row[\"Ground\"] else 0\n",
    "        summary = row['Summary']\n",
    "        podatki.append((date,time,location,operator,flightNr,route,type,registration,CnIn,aboard,fatalities,ground,summary))\n",
    "podatki = np.sort(np.array(podatki,dtype=dtype), order='Date')\n",
    "\n",
    "\n",
    "\n",
    "\n",
    "#print(podatki)\n",
    "\n"
   ]
  },
  {
   "cell_type": "markdown",
   "metadata": {},
   "source": [
    "***Uničena***"
   ]
  },
  {
   "cell_type": "code",
   "execution_count": 89,
   "metadata": {},
   "outputs": [
    {
     "name": "stdout",
     "output_type": "stream",
     "text": [
      "209\n",
      "1940 5\n",
      "1942 7\n",
      "1943 4\n",
      "1944 8\n",
      "1952 4\n",
      "1964 4\n",
      "1966 4\n",
      "1968 4\n",
      "1969 4\n",
      "1970 4\n",
      "1972 9\n",
      "1980 5\n",
      "1986 5\n",
      "1987 7\n",
      "1988 8\n",
      "1990 6\n",
      "1991 8\n",
      "1994 7\n",
      "1996 5\n",
      "1998 4\n",
      "2007 4\n"
     ]
    }
   ],
   "source": [
    "def unicena_letala():\n",
    "    unicena = np.array([entry for entry in podatki if (\n",
    "                                                        \"shoot\" in entry[\"Summary\"].lower() \n",
    "                                                        or \"shot\" in entry[\"Summary\"].lower()\n",
    "                                                        or \"attack\" in entry[\"Summary\"].lower()\n",
    "                                                    )\n",
    "                                                    and not(\n",
    "                                                        \"overshoot\" in entry[\"Summary\"].lower()\n",
    "                                                        or \"undershoot\" in entry[\"Summary\"].lower()\n",
    "                                                    )\n",
    "                                                    ])\n",
    "    print(len(unicena))\n",
    "    years,counts = np.unique([entry['Date'][-4:] for entry in unicena],return_counts=True)\n",
    "    for year,count in zip(years,counts):\n",
    "        if(count>3):\n",
    "            print(year,count)\n",
    "unicena_letala()"
   ]
  },
  {
   "cell_type": "markdown",
   "metadata": {},
   "source": [
    "#"
   ]
  },
  {
   "cell_type": "markdown",
   "metadata": {},
   "source": [
    "***Faulty design***"
   ]
  },
  {
   "cell_type": "code",
   "execution_count": 90,
   "metadata": {},
   "outputs": [
    {
     "name": "stdout",
     "output_type": "stream",
     "text": [
      "16\n"
     ]
    }
   ],
   "source": [
    "def faulty_letala():\n",
    "    faulty = np.array([entry for entry in podatki if (\n",
    "                                                        \"faulty design\" in entry[\"Summary\"].lower() \n",
    "                                                        or \"design flaw\" in entry[\"Summary\"].lower()\n",
    "                                                        or \"design deficiencies\" in entry[\"Summary\"].lower()\n",
    "\n",
    "                                                    )\n",
    "\n",
    "                                                    ])\n",
    "    print(len(faulty[\"Summary\"]))\n",
    "\n",
    "faulty_letala()"
   ]
  },
  {
   "cell_type": "markdown",
   "metadata": {},
   "source": [
    "***Water***"
   ]
  },
  {
   "cell_type": "code",
   "execution_count": 91,
   "metadata": {},
   "outputs": [
    {
     "name": "stdout",
     "output_type": "stream",
     "text": [
      "617\n"
     ]
    }
   ],
   "source": [
    "def water_letala():\n",
    "    faulty = np.array([entry for entry in podatki if (\n",
    "                                                        \"ocean\" in entry[\"Summary\"].lower() \n",
    "                                                        or \"water\" in entry[\"Summary\"].lower()\n",
    "                                                        or \"swamp\" in entry[\"Summary\"].lower()\n",
    "                                                        or \"sea\" in entry[\"Summary\"].lower()    \n",
    "                                                        or \"river\" in entry[\"Summary\"].lower()  \n",
    "                                                    )\n",
    "\n",
    "                                                    ])\n",
    "    print(len(faulty[\"Summary\"]))\n",
    "\n",
    "water_letala()"
   ]
  },
  {
   "cell_type": "markdown",
   "metadata": {},
   "source": [
    "***Low fuel***"
   ]
  },
  {
   "cell_type": "code",
   "execution_count": 92,
   "metadata": {},
   "outputs": [
    {
     "name": "stdout",
     "output_type": "stream",
     "text": [
      "66\n"
     ]
    }
   ],
   "source": [
    "def fuel_letala():\n",
    "    faulty = np.array([entry for entry in podatki if (\n",
    "                                                        \"low fuel\" in entry[\"Summary\"].lower() \n",
    "                                                        or \"fuel exhaustion\" in entry[\"Summary\"].lower() \n",
    "                                                        or \"ran out of fuel\" in entry[\"Summary\"].lower() \n",
    "                                                        or \"running out of fuel\" in entry[\"Summary\"].lower() \n",
    "                                                    )\n",
    "\n",
    "                                                    ])\n",
    "    print(len(faulty[\"Summary\"]))\n",
    "\n",
    "fuel_letala()"
   ]
  },
  {
   "cell_type": "markdown",
   "metadata": {},
   "source": [
    "***Birds***"
   ]
  },
  {
   "cell_type": "code",
   "execution_count": 93,
   "metadata": {},
   "outputs": [
    {
     "name": "stdout",
     "output_type": "stream",
     "text": [
      "12\n",
      "['The plane was taking off from La Guardia Airport when possibly, both engines were disabled after striking a flock of geese. The crew was able to ditch the plane in the Hudson River, making a soft landing. All 150 passengers and crew of 5 made it out safely before the plane began to sink. No one was reported to be seriously injured.'\n",
      " 'The plane flew into a flock of birds that were injested into the left engine.  The pilot soon after reported an engine fire and that he was returning to the airport.  However, control of the plane was lost and the aircraft crashed.'\n",
      " 'The crew abandoned their takeoff after the loss of an engine due to bird ingestion. The jet overshot the runway and collided with a truck, killing the driver. The landing gear sheared off and the plane came to rest in a field.'\n",
      " \"The aircraft was believed to have gone into a spin or spiral dive with recovery at about 12,000 ft. The dive apparently caused structural damage which resulted in the aircraft plunging into St George's Channel, 10 miles east of Carnsore Point. Possible causal factors may have been metal fatigue, corrosion, flutter (vibration) or a bird strike.\"\n",
      " 'Shortly after taking off, the plane crashed into the ocean three miles south of the Panamanian island of Contadora after experiencing problems with the No. 2 engine leading to loss of altitude and control of the aircraft. The engine failure was caused by bird ingestion.'\n",
      " 'The military flight crashed after losing its engines after striking birds,unable to return to land.'\n",
      " 'The helicopter, carrying troops from one ship to another during the Falkland Islands war, crashed into the AtlantiOcean. Possible bird strike or component failure.'\n",
      " 'Crashed and burned while attempting to land at Eindhoven Air Base. The aircraft collided with a large flock of lapwings and starlings, causing failure of the No. 1, 2, and 3 engines after which the port wing hit the ground and the plane exploded in flames. Aboard were members of a  Dutch Army Band returning from Italy.'\n",
      " 'During takeoff, the aircraft ingested numerous pigeons into both engines. One engine lost thrust almost immediately and the second lost thrust during the emergency return to the airport. The aircraft crashed while trying to land. Engine failure due to ingestion of 10-16 Columba Guinea birds.'\n",
      " 'The aircraft suffered multiple bird strikes in the No. 1 and 2 engines just after taking off when it flew into a flock of 100 or more Canada Geese. The crew initiated a slow climb and began to dump fuel. The aircraft attained a maximum altitude of 250 ft. before it started to descend. The plane impacted a hilly wooded area less than a mile from the runway, broke up, exploded and burned.  Ingestion of Canada geese into the Nos.1 and 2 engines. Lack of adequate procedures to reduce bird hazards. The crew was not warned about observations of birds in the area by the ATC.'\n",
      " 'A few seconds after becoming airborne, the aircraft struck a flock of starlings. A number of these birds were ingested in engines No. 1, 2, and 4.  Engine No. 1 was shut down and its propeller was feathered. Engines No. 2 and 4 experienced a substantial momentary loss of power. This abrupt and intermittent loss and recovery of power resulted in the aircraft yawing to the left and decelerating to the stall speed. As speed decayed during the continued yaw and skidding left turn, the stall speed was reached; the left wing dropped, the nose pitched up, and the aircraft rolled left into a spin and fell almost vertically into the water. An altitude of less than 150 feet precluded recovery.'\n",
      " 'The aircraft penetrated a flock of Whistling Swans at 6,000 ft. One, estimated to be 13 pounds, struck the leading edge of the left horizontal stabilizer, weakening the structure and causing it to detach. The aircraft lost control and broke-up in mid-air and crashed. Bird collision.']\n"
     ]
    }
   ],
   "source": [
    "def bird_letala():\n",
    "    faulty = np.array([entry for entry in podatki if (\n",
    "                                                        \"bird\" in entry[\"Summary\"].lower()\n",
    "                                                        or \"geese\" in entry[\"Summary\"].lower()\n",
    "                                                        or \"flock\" in entry[\"Summary\"].lower()\n",
    "                                                    )\n",
    "\n",
    "                                                    ])\n",
    "    print(len(faulty[\"Summary\"]))\n",
    "    print(faulty[\"Summary\"])\n",
    "\n",
    "bird_letala()"
   ]
  },
  {
   "cell_type": "code",
   "execution_count": 116,
   "metadata": {},
   "outputs": [],
   "source": [
    "import re\n",
    "from geopy.geocoders import Nominatim\n",
    "\n",
    "\n",
    "\n",
    "import multiprocessing\n",
    "\n",
    "\n",
    "\n",
    "def geocode_worker(address):\n",
    "    address.geocode()\n",
    "    return address\n",
    "\n",
    "\n",
    "#print(podatki[\"Location\"])\n",
    "\n",
    "geolocator = Nominatim(user_agent=\"location_mapping\")\n",
    "\n",
    "\n",
    "latitudes = []\n",
    "longitudes = []\n",
    "\n",
    "words_to_remove = [\"Near\", \"Off\"]\n",
    "locations = [re.sub(rf'^{word}\\s*', '', location) for word in words_to_remove for location in podatki[\"Location\"]]\n",
    "\n",
    "# Geocode the locations\n",
    "for i,location in enumerate(locations[:3]):\n",
    "    for word in words_to_remove:\n",
    "        location = re.sub(rf'^{word}\\s*', '', location)\n",
    "    \n",
    "    try:\n",
    "        pool = multiprocessing.Pool(processes=multiprocessing.cpu_count())\n",
    "        # Get the location information\n",
    "        #location_info = geolocator.geocode(location)\n",
    "        location_info  = pool.map(geocode_worker, location)\n",
    "        # Append latitude and longitude to respective lists\n",
    "        latitudes.append(location_info.latitude)\n",
    "        longitudes.append(location_info.longitude)\n",
    "    except Exception as e:\n",
    "        print(f\"Error geocoding {location}: {e}\")\n",
    "        \n",
    "        \n",
    "# Plot the locations on the map\n",
    "plt.figure(figsize=(10, 6))\n",
    "plt.scatter(longitudes, latitudes, color='red', marker='o')\n",
    "\n",
    "\n",
    "\n",
    "# Add title and labels\n",
    "plt.title('Locations Map')\n",
    "plt.xlabel('Longitude')\n",
    "plt.ylabel('Latitude')\n",
    "\n",
    "# Show the map\n",
    "plt.grid(True)\n",
    "plt.show()\n",
    "\n"
   ]
  }
 ],
 "metadata": {
  "kernelspec": {
   "display_name": "Python 3 (ipykernel)",
   "language": "python",
   "name": "python3"
  },
  "language_info": {
   "codemirror_mode": {
    "name": "ipython",
    "version": 3
   },
   "file_extension": ".py",
   "mimetype": "text/x-python",
   "name": "python",
   "nbconvert_exporter": "python",
   "pygments_lexer": "ipython3",
   "version": "3.10.14"
  }
 },
 "nbformat": 4,
 "nbformat_minor": 4
}
